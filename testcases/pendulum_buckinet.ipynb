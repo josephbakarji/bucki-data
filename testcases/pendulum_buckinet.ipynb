{
 "cells": [
  {
   "cell_type": "code",
   "execution_count": 1,
   "metadata": {},
   "outputs": [],
   "source": [
    "# Matplotlib\n",
    "import numpy as np\n",
    "import matplotlib.pyplot as plt\n",
    "import matplotlib as mpl\n",
    "from matplotlib import rcParams\n",
    "mpl.rc('text', usetex=True)\n",
    "mpl.rc('font', family='serif')\n",
    "mpl.rc('xtick', labelsize=14)\n",
    "mpl.rc('ytick', labelsize=14)\n",
    "mpl.rc('axes', labelsize=20)\n",
    "mpl.rc('axes', titlesize=20)\n",
    "mpl.rc('figure', figsize=(6, 4))\n",
    "%config InlineBackend.figure_format = 'retina'\n",
    "\n",
    "from numpy.linalg import matrix_rank\n",
    "import sys\n",
    "sys.path.append('../src')\n",
    "sys.path.append('../solvers')\n",
    "from pendulum import Pendulum\n",
    "from learning import KRidgeReg, NeuralNet, BuckyNet, KRidgeReg_struct\n",
    "from nullspace_search import get_nondim_numbers, fit_allnondim\n",
    "from helper_functions import prettify_results\n"
   ]
  },
  {
   "cell_type": "markdown",
   "metadata": {},
   "source": [
    "## Get Rotating hoop data"
   ]
  },
  {
   "cell_type": "code",
   "execution_count": 2,
   "metadata": {},
   "outputs": [],
   "source": [
    "output_type = 'dynamic'\n",
    "nsamples=int(1e3)\n",
    "tsteps=50\n",
    "tend=10\n",
    "phi_init=[np.pi/3, 0]\n",
    "\n",
    "## Get solution\n",
    "R = Pendulum(nsamples=nsamples, output_type=output_type, time_steps=tsteps, tend=tend, phi0=phi_init)\n",
    "inputs, outputs = R.get_data()\n",
    "dim_matrix = R.get_dim_matrix()\n"
   ]
  },
  {
   "cell_type": "code",
   "execution_count": 3,
   "metadata": {},
   "outputs": [
    {
     "data": {
      "text/plain": [
       "(49000, 4)"
      ]
     },
     "execution_count": 3,
     "metadata": {},
     "output_type": "execute_result"
    }
   ],
   "source": [
    "inputs.shape"
   ]
  },
  {
   "cell_type": "code",
   "execution_count": 15,
   "metadata": {},
   "outputs": [],
   "source": [
    "## TODO: Set up hyperparameter search.\n",
    "\n",
    "verbose = 1\n",
    "num_nondim = 1\n",
    "num_layers = 3\n",
    "num_neurons = 40\n",
    "activation = 'elu'\n",
    "initializer = 'he_normal'\n",
    "nepoch = 5000\n",
    "patience = 30\n",
    "test_size = 0.15\n",
    "nullspace_loss = None # Set to weight \\in [0, 1] if want to turn on\n",
    "l1_reg = 0.0\n",
    "l2_reg = 0.00001\n",
    "adamlr = 0.003\n",
    "\n",
    "B = BuckyNet(inputs, outputs, dim_matrix, num_nondim=num_nondim, num_layers=num_layers, num_neurons=num_neurons, activation=activation, verbose=verbose, initializer=initializer, nepoch=nepoch, patience=patience, test_size=test_size, nullspace_loss=nullspace_loss, l1_reg=l1_reg, l2_reg=l2_reg, adamlr=adamlr)\n"
   ]
  },
  {
   "cell_type": "code",
   "execution_count": 16,
   "metadata": {
    "scrolled": true,
    "tags": [
     "outputPrepend"
    ]
   },
   "outputs": [
    {
     "name": "stdout",
     "output_type": "stream",
     "text": [
      "Epoch 1/5000\n",
      "1107/1107 [==============================] - 2s 1ms/step - loss: 2.5864 - root_mean_squared_error: 1.6020 - val_loss: 2.3104 - val_root_mean_squared_error: 1.5192\n",
      "Epoch 2/5000\n",
      "1107/1107 [==============================] - 1s 905us/step - loss: 2.2570 - root_mean_squared_error: 1.5013 - val_loss: 1.4321 - val_root_mean_squared_error: 1.1953\n",
      "Epoch 3/5000\n",
      "1107/1107 [==============================] - 1s 880us/step - loss: 1.1097 - root_mean_squared_error: 1.0486 - val_loss: 0.5319 - val_root_mean_squared_error: 0.7262\n",
      "Epoch 4/5000\n",
      "1107/1107 [==============================] - 1s 832us/step - loss: 0.3839 - root_mean_squared_error: 0.6134 - val_loss: 0.3545 - val_root_mean_squared_error: 0.5910\n",
      "Epoch 5/5000\n",
      "1107/1107 [==============================] - 1s 925us/step - loss: 0.2634 - root_mean_squared_error: 0.5078 - val_loss: 0.1308 - val_root_mean_squared_error: 0.3532\n",
      "Epoch 6/5000\n",
      "1107/1107 [==============================] - 1s 913us/step - loss: 0.1167 - root_mean_squared_error: 0.3320 - val_loss: 0.0999 - val_root_mean_squared_error: 0.3055\n",
      "Epoch 7/5000\n",
      "1107/1107 [==============================] - 1s 837us/step - loss: 0.1041 - root_mean_squared_error: 0.3118 - val_loss: 0.0780 - val_root_mean_squared_error: 0.2672\n",
      "Epoch 8/5000\n",
      "1107/1107 [==============================] - 1s 832us/step - loss: 0.0919 - root_mean_squared_error: 0.2911 - val_loss: 0.0846 - val_root_mean_squared_error: 0.2792\n",
      "Epoch 9/5000\n",
      "1107/1107 [==============================] - 1s 832us/step - loss: 0.0865 - root_mean_squared_error: 0.2817 - val_loss: 0.0830 - val_root_mean_squared_error: 0.2762\n",
      "Epoch 10/5000\n",
      "1107/1107 [==============================] - 1s 867us/step - loss: 0.0678 - root_mean_squared_error: 0.2467 - val_loss: 0.0653 - val_root_mean_squared_error: 0.2414\n",
      "Epoch 11/5000\n",
      "1107/1107 [==============================] - 1s 1ms/step - loss: 0.0448 - root_mean_squared_error: 0.1939 - val_loss: 0.0325 - val_root_mean_squared_error: 0.1590\n",
      "Epoch 12/5000\n",
      "1107/1107 [==============================] - 1s 916us/step - loss: 0.0272 - root_mean_squared_error: 0.1407 - val_loss: 0.0355 - val_root_mean_squared_error: 0.1675\n",
      "Epoch 13/5000\n",
      "1107/1107 [==============================] - 1s 1ms/step - loss: 0.0338 - root_mean_squared_error: 0.1617 - val_loss: 0.0347 - val_root_mean_squared_error: 0.1655\n",
      "Epoch 14/5000\n",
      "1107/1107 [==============================] - 1s 994us/step - loss: 0.0194 - root_mean_squared_error: 0.1098 - val_loss: 0.0753 - val_root_mean_squared_error: 0.2610\n",
      "Epoch 15/5000\n",
      "1107/1107 [==============================] - 1s 948us/step - loss: 0.0244 - root_mean_squared_error: 0.1296 - val_loss: 0.0202 - val_root_mean_squared_error: 0.1144\n",
      "Epoch 16/5000\n",
      "1107/1107 [==============================] - 1s 896us/step - loss: 0.0216 - root_mean_squared_error: 0.1179 - val_loss: 0.0170 - val_root_mean_squared_error: 0.1000\n",
      "Epoch 17/5000\n",
      "1107/1107 [==============================] - 1s 830us/step - loss: 0.0200 - root_mean_squared_error: 0.1134 - val_loss: 0.0121 - val_root_mean_squared_error: 0.0720\n",
      "Epoch 18/5000\n",
      "1107/1107 [==============================] - 1s 879us/step - loss: 0.0208 - root_mean_squared_error: 0.1138 - val_loss: 0.0256 - val_root_mean_squared_error: 0.1371\n",
      "Epoch 19/5000\n",
      "1107/1107 [==============================] - 1s 861us/step - loss: 0.0164 - root_mean_squared_error: 0.0978 - val_loss: 0.0252 - val_root_mean_squared_error: 0.1356\n",
      "Epoch 20/5000\n",
      "1107/1107 [==============================] - 1s 884us/step - loss: 0.0192 - root_mean_squared_error: 0.1108 - val_loss: 0.0104 - val_root_mean_squared_error: 0.0606\n",
      "Epoch 21/5000\n",
      "1107/1107 [==============================] - 1s 1ms/step - loss: 0.0175 - root_mean_squared_error: 0.1023 - val_loss: 0.0247 - val_root_mean_squared_error: 0.1344\n",
      "Epoch 22/5000\n",
      "1107/1107 [==============================] - 1s 887us/step - loss: 0.0207 - root_mean_squared_error: 0.1179 - val_loss: 0.0106 - val_root_mean_squared_error: 0.0634\n",
      "Epoch 23/5000\n",
      "1107/1107 [==============================] - 1s 974us/step - loss: 0.0206 - root_mean_squared_error: 0.1167 - val_loss: 0.0134 - val_root_mean_squared_error: 0.0832\n",
      "Epoch 24/5000\n",
      "1107/1107 [==============================] - 1s 830us/step - loss: 0.0201 - root_mean_squared_error: 0.1162 - val_loss: 0.0092 - val_root_mean_squared_error: 0.0529\n",
      "Epoch 25/5000\n",
      "1107/1107 [==============================] - 1s 814us/step - loss: 0.0156 - root_mean_squared_error: 0.0951 - val_loss: 0.0147 - val_root_mean_squared_error: 0.0913\n",
      "Epoch 26/5000\n",
      "1107/1107 [==============================] - 1s 816us/step - loss: 0.0162 - root_mean_squared_error: 0.0985 - val_loss: 0.0192 - val_root_mean_squared_error: 0.1134\n",
      "Epoch 27/5000\n",
      "1107/1107 [==============================] - 1s 819us/step - loss: 0.0141 - root_mean_squared_error: 0.0876 - val_loss: 0.1020 - val_root_mean_squared_error: 0.3095\n",
      "Epoch 28/5000\n",
      "1107/1107 [==============================] - 1s 819us/step - loss: 0.0190 - root_mean_squared_error: 0.1121 - val_loss: 0.0338 - val_root_mean_squared_error: 0.1662\n",
      "Epoch 29/5000\n",
      "1107/1107 [==============================] - 1s 811us/step - loss: 0.0136 - root_mean_squared_error: 0.0855 - val_loss: 0.0148 - val_root_mean_squared_error: 0.0925\n",
      "Epoch 30/5000\n",
      "1107/1107 [==============================] - 1s 812us/step - loss: 0.0175 - root_mean_squared_error: 0.1037 - val_loss: 0.0315 - val_root_mean_squared_error: 0.1591\n",
      "Epoch 31/5000\n",
      "1107/1107 [==============================] - 1s 865us/step - loss: 0.0149 - root_mean_squared_error: 0.0930 - val_loss: 0.0184 - val_root_mean_squared_error: 0.1108\n",
      "Epoch 32/5000\n",
      "1107/1107 [==============================] - 1s 985us/step - loss: 0.0180 - root_mean_squared_error: 0.1079 - val_loss: 0.0533 - val_root_mean_squared_error: 0.2173\n",
      "Epoch 33/5000\n",
      "1107/1107 [==============================] - 1s 935us/step - loss: 0.0199 - root_mean_squared_error: 0.1172 - val_loss: 0.0299 - val_root_mean_squared_error: 0.1544\n",
      "Epoch 34/5000\n",
      "1107/1107 [==============================] - 1s 885us/step - loss: 0.0165 - root_mean_squared_error: 0.1018 - val_loss: 0.0123 - val_root_mean_squared_error: 0.0796\n",
      "Epoch 35/5000\n",
      "1107/1107 [==============================] - 1s 894us/step - loss: 0.0160 - root_mean_squared_error: 0.0993 - val_loss: 0.0115 - val_root_mean_squared_error: 0.0746\n",
      "Epoch 36/5000\n",
      "1107/1107 [==============================] - 1s 870us/step - loss: 0.0172 - root_mean_squared_error: 0.1040 - val_loss: 0.0223 - val_root_mean_squared_error: 0.1278\n",
      "Epoch 37/5000\n",
      "1107/1107 [==============================] - 1s 1ms/step - loss: 0.0171 - root_mean_squared_error: 0.1049 - val_loss: 0.0121 - val_root_mean_squared_error: 0.0788\n",
      "Epoch 38/5000\n",
      "1107/1107 [==============================] - 1s 1ms/step - loss: 0.0183 - root_mean_squared_error: 0.1109 - val_loss: 0.0132 - val_root_mean_squared_error: 0.0857\n",
      "Epoch 39/5000\n",
      "1107/1107 [==============================] - 1s 1ms/step - loss: 0.0172 - root_mean_squared_error: 0.1061 - val_loss: 0.0124 - val_root_mean_squared_error: 0.0807\n",
      "Epoch 40/5000\n",
      "1107/1107 [==============================] - 1s 1ms/step - loss: 0.0165 - root_mean_squared_error: 0.1026 - val_loss: 0.0192 - val_root_mean_squared_error: 0.1158\n",
      "Epoch 41/5000\n",
      "1107/1107 [==============================] - 1s 939us/step - loss: 0.0178 - root_mean_squared_error: 0.1085 - val_loss: 0.0144 - val_root_mean_squared_error: 0.0929\n",
      "Epoch 42/5000\n",
      "1107/1107 [==============================] - 1s 990us/step - loss: 0.0242 - root_mean_squared_error: 0.1342 - val_loss: 0.0085 - val_root_mean_squared_error: 0.0525\n",
      "Epoch 43/5000\n",
      "1107/1107 [==============================] - 1s 1ms/step - loss: 0.0151 - root_mean_squared_error: 0.0963 - val_loss: 0.0292 - val_root_mean_squared_error: 0.1531\n",
      "Epoch 44/5000\n",
      "1107/1107 [==============================] - 1s 848us/step - loss: 0.0167 - root_mean_squared_error: 0.1036 - val_loss: 0.0093 - val_root_mean_squared_error: 0.0604\n",
      "Epoch 45/5000\n",
      "1107/1107 [==============================] - 1s 846us/step - loss: 0.0188 - root_mean_squared_error: 0.1138 - val_loss: 0.0126 - val_root_mean_squared_error: 0.0834\n",
      "Epoch 46/5000\n",
      "1107/1107 [==============================] - 1s 848us/step - loss: 0.0142 - root_mean_squared_error: 0.0924 - val_loss: 0.0094 - val_root_mean_squared_error: 0.0615\n",
      "Epoch 47/5000\n",
      "1107/1107 [==============================] - 1s 832us/step - loss: 0.0148 - root_mean_squared_error: 0.0956 - val_loss: 0.0149 - val_root_mean_squared_error: 0.0966\n",
      "Epoch 48/5000\n",
      "1107/1107 [==============================] - 1s 852us/step - loss: 0.0152 - root_mean_squared_error: 0.0975 - val_loss: 0.0094 - val_root_mean_squared_error: 0.0621\n",
      "Epoch 49/5000\n",
      "1107/1107 [==============================] - 1s 864us/step - loss: 0.0122 - root_mean_squared_error: 0.0814 - val_loss: 0.0145 - val_root_mean_squared_error: 0.0947\n",
      "Epoch 50/5000\n",
      "1107/1107 [==============================] - 1s 868us/step - loss: 0.0164 - root_mean_squared_error: 0.1037 - val_loss: 0.0335 - val_root_mean_squared_error: 0.1672\n",
      "Epoch 51/5000\n",
      "1107/1107 [==============================] - 1s 835us/step - loss: 0.0202 - root_mean_squared_error: 0.1198 - val_loss: 0.0141 - val_root_mean_squared_error: 0.0927\n",
      "Epoch 52/5000\n",
      "1107/1107 [==============================] - 1s 840us/step - loss: 0.0142 - root_mean_squared_error: 0.0928 - val_loss: 0.0126 - val_root_mean_squared_error: 0.0843\n",
      "Epoch 53/5000\n",
      "1107/1107 [==============================] - 1s 835us/step - loss: 0.0150 - root_mean_squared_error: 0.0965 - val_loss: 0.0356 - val_root_mean_squared_error: 0.1734\n",
      "Epoch 54/5000\n",
      "1107/1107 [==============================] - 1s 838us/step - loss: 0.0234 - root_mean_squared_error: 0.1317 - val_loss: 0.0074 - val_root_mean_squared_error: 0.0438\n",
      "Epoch 55/5000\n",
      "1107/1107 [==============================] - 1s 856us/step - loss: 0.0133 - root_mean_squared_error: 0.0876 - val_loss: 0.0478 - val_root_mean_squared_error: 0.2058\n",
      "Epoch 56/5000\n",
      "1107/1107 [==============================] - 1s 850us/step - loss: 0.0212 - root_mean_squared_error: 0.1220 - val_loss: 0.1894 - val_root_mean_squared_error: 0.4289\n",
      "Epoch 57/5000\n",
      "1107/1107 [==============================] - 1s 847us/step - loss: 0.0162 - root_mean_squared_error: 0.0996 - val_loss: 0.0087 - val_root_mean_squared_error: 0.0578\n",
      "Epoch 58/5000\n",
      "1107/1107 [==============================] - 1s 849us/step - loss: 0.0137 - root_mean_squared_error: 0.0903 - val_loss: 0.0095 - val_root_mean_squared_error: 0.0644\n",
      "Epoch 59/5000\n",
      "1107/1107 [==============================] - 1s 845us/step - loss: 0.0178 - root_mean_squared_error: 0.1094 - val_loss: 0.0436 - val_root_mean_squared_error: 0.1955\n",
      "Epoch 60/5000\n",
      "1107/1107 [==============================] - 1s 853us/step - loss: 0.0154 - root_mean_squared_error: 0.0986 - val_loss: 0.0122 - val_root_mean_squared_error: 0.0828\n",
      "Epoch 61/5000\n",
      "1107/1107 [==============================] - 1s 850us/step - loss: 0.0118 - root_mean_squared_error: 0.0798 - val_loss: 0.0082 - val_root_mean_squared_error: 0.0538\n",
      "Epoch 62/5000\n",
      "1107/1107 [==============================] - 1s 837us/step - loss: 0.0150 - root_mean_squared_error: 0.0974 - val_loss: 0.0075 - val_root_mean_squared_error: 0.0467\n",
      "Epoch 63/5000\n",
      "1107/1107 [==============================] - 1s 847us/step - loss: 0.0121 - root_mean_squared_error: 0.0798 - val_loss: 0.0098 - val_root_mean_squared_error: 0.0674\n",
      "Epoch 64/5000\n",
      "1107/1107 [==============================] - 1s 871us/step - loss: 0.0153 - root_mean_squared_error: 0.0992 - val_loss: 0.0106 - val_root_mean_squared_error: 0.0728\n",
      "Epoch 65/5000\n",
      "1107/1107 [==============================] - 1s 854us/step - loss: 0.0140 - root_mean_squared_error: 0.0926 - val_loss: 0.0114 - val_root_mean_squared_error: 0.0782\n",
      "Epoch 66/5000\n",
      "1107/1107 [==============================] - 1s 857us/step - loss: 0.0129 - root_mean_squared_error: 0.0874 - val_loss: 0.0139 - val_root_mean_squared_error: 0.0932\n",
      "Epoch 67/5000\n",
      "1107/1107 [==============================] - 1s 848us/step - loss: 0.0147 - root_mean_squared_error: 0.0968 - val_loss: 0.0225 - val_root_mean_squared_error: 0.1315\n",
      "Epoch 68/5000\n",
      "1107/1107 [==============================] - 1s 839us/step - loss: 0.0146 - root_mean_squared_error: 0.0958 - val_loss: 0.0106 - val_root_mean_squared_error: 0.0737\n",
      "Epoch 69/5000\n",
      "1107/1107 [==============================] - 1s 982us/step - loss: 0.0112 - root_mean_squared_error: 0.0769 - val_loss: 0.0226 - val_root_mean_squared_error: 0.1318\n",
      "Epoch 70/5000\n",
      "1107/1107 [==============================] - 1s 1ms/step - loss: 0.0140 - root_mean_squared_error: 0.0939 - val_loss: 0.0114 - val_root_mean_squared_error: 0.0790\n",
      "Epoch 71/5000\n",
      "1107/1107 [==============================] - 1s 1ms/step - loss: 0.0211 - root_mean_squared_error: 0.1231 - val_loss: 0.0110 - val_root_mean_squared_error: 0.0762\n",
      "Epoch 72/5000\n",
      "1107/1107 [==============================] - 1s 858us/step - loss: 0.0137 - root_mean_squared_error: 0.0914 - val_loss: 0.0085 - val_root_mean_squared_error: 0.0573\n",
      "Epoch 73/5000\n",
      "1107/1107 [==============================] - 1s 836us/step - loss: 0.0117 - root_mean_squared_error: 0.0800 - val_loss: 0.0076 - val_root_mean_squared_error: 0.0496\n",
      "Epoch 74/5000\n",
      "1107/1107 [==============================] - 1s 844us/step - loss: 0.0151 - root_mean_squared_error: 0.0984 - val_loss: 0.0162 - val_root_mean_squared_error: 0.1050\n",
      "Epoch 75/5000\n",
      "1107/1107 [==============================] - 1s 836us/step - loss: 0.0169 - root_mean_squared_error: 0.1071 - val_loss: 0.0085 - val_root_mean_squared_error: 0.0580\n",
      "Epoch 76/5000\n",
      "1107/1107 [==============================] - 1s 832us/step - loss: 0.0125 - root_mean_squared_error: 0.0849 - val_loss: 0.0068 - val_root_mean_squared_error: 0.0417\n",
      "Epoch 77/5000\n",
      "1107/1107 [==============================] - 1s 867us/step - loss: 0.0230 - root_mean_squared_error: 0.1291 - val_loss: 0.0082 - val_root_mean_squared_error: 0.0555\n",
      "Epoch 78/5000\n",
      "1107/1107 [==============================] - 1s 869us/step - loss: 0.0117 - root_mean_squared_error: 0.0802 - val_loss: 0.0127 - val_root_mean_squared_error: 0.0870\n",
      "Epoch 79/5000\n",
      "1107/1107 [==============================] - 1s 897us/step - loss: 0.0109 - root_mean_squared_error: 0.0751 - val_loss: 0.0078 - val_root_mean_squared_error: 0.0523\n",
      "Epoch 80/5000\n",
      "1107/1107 [==============================] - 1s 887us/step - loss: 0.0137 - root_mean_squared_error: 0.0923 - val_loss: 0.0186 - val_root_mean_squared_error: 0.1162\n",
      "Epoch 81/5000\n",
      "1107/1107 [==============================] - 1s 900us/step - loss: 0.0194 - root_mean_squared_error: 0.1184 - val_loss: 0.0105 - val_root_mean_squared_error: 0.0735\n",
      "Epoch 82/5000\n",
      "1107/1107 [==============================] - 1s 861us/step - loss: 0.0150 - root_mean_squared_error: 0.0980 - val_loss: 0.0089 - val_root_mean_squared_error: 0.0617\n",
      "Epoch 83/5000\n",
      "1107/1107 [==============================] - 1s 845us/step - loss: 0.0146 - root_mean_squared_error: 0.0969 - val_loss: 0.0147 - val_root_mean_squared_error: 0.0984\n",
      "Epoch 84/5000\n",
      "1107/1107 [==============================] - 1s 871us/step - loss: 0.0126 - root_mean_squared_error: 0.0866 - val_loss: 0.0094 - val_root_mean_squared_error: 0.0661\n",
      "Epoch 85/5000\n",
      "1107/1107 [==============================] - 1s 1ms/step - loss: 0.0141 - root_mean_squared_error: 0.0946 - val_loss: 0.0160 - val_root_mean_squared_error: 0.1047\n",
      "Epoch 86/5000\n",
      "1107/1107 [==============================] - 1s 927us/step - loss: 0.0132 - root_mean_squared_error: 0.0898 - val_loss: 0.0535 - val_root_mean_squared_error: 0.2201\n",
      "Epoch 87/5000\n",
      "1107/1107 [==============================] - 1s 961us/step - loss: 0.0133 - root_mean_squared_error: 0.0905 - val_loss: 0.0232 - val_root_mean_squared_error: 0.1350\n",
      "Epoch 88/5000\n",
      "1107/1107 [==============================] - 1s 985us/step - loss: 0.0117 - root_mean_squared_error: 0.0812 - val_loss: 0.0149 - val_root_mean_squared_error: 0.0994\n",
      "Epoch 89/5000\n",
      "1107/1107 [==============================] - 1s 866us/step - loss: 0.0148 - root_mean_squared_error: 0.0983 - val_loss: 0.0174 - val_root_mean_squared_error: 0.1115\n",
      "Epoch 90/5000\n",
      "1107/1107 [==============================] - 1s 921us/step - loss: 0.0148 - root_mean_squared_error: 0.0982 - val_loss: 0.0075 - val_root_mean_squared_error: 0.0498\n",
      "Epoch 91/5000\n",
      "1107/1107 [==============================] - 1s 946us/step - loss: 0.0127 - root_mean_squared_error: 0.0878 - val_loss: 0.0156 - val_root_mean_squared_error: 0.1034\n",
      "Epoch 92/5000\n",
      "1107/1107 [==============================] - 1s 883us/step - loss: 0.0132 - root_mean_squared_error: 0.0903 - val_loss: 0.0074 - val_root_mean_squared_error: 0.0501\n",
      "Epoch 93/5000\n",
      "1107/1107 [==============================] - 1s 834us/step - loss: 0.0117 - root_mean_squared_error: 0.0813 - val_loss: 0.0243 - val_root_mean_squared_error: 0.1391\n",
      "Epoch 94/5000\n",
      "1107/1107 [==============================] - 1s 841us/step - loss: 0.0191 - root_mean_squared_error: 0.1166 - val_loss: 0.0096 - val_root_mean_squared_error: 0.0682\n",
      "Epoch 95/5000\n",
      "1107/1107 [==============================] - 1s 839us/step - loss: 0.0092 - root_mean_squared_error: 0.0650 - val_loss: 0.0149 - val_root_mean_squared_error: 0.0997\n",
      "Epoch 96/5000\n",
      "1107/1107 [==============================] - 1s 845us/step - loss: 0.0112 - root_mean_squared_error: 0.0785 - val_loss: 0.0688 - val_root_mean_squared_error: 0.2528\n",
      "Epoch 97/5000\n",
      "1107/1107 [==============================] - 1s 904us/step - loss: 0.0145 - root_mean_squared_error: 0.0966 - val_loss: 0.0093 - val_root_mean_squared_error: 0.0661\n",
      "Epoch 98/5000\n",
      "1107/1107 [==============================] - 1s 1ms/step - loss: 0.0146 - root_mean_squared_error: 0.0973 - val_loss: 0.0159 - val_root_mean_squared_error: 0.1048\n",
      "Epoch 99/5000\n",
      "1107/1107 [==============================] - 1s 987us/step - loss: 0.0121 - root_mean_squared_error: 0.0838 - val_loss: 0.0094 - val_root_mean_squared_error: 0.0674\n",
      "Epoch 100/5000\n",
      "1107/1107 [==============================] - 1s 770us/step - loss: 0.0126 - root_mean_squared_error: 0.0860 - val_loss: 0.0094 - val_root_mean_squared_error: 0.0674\n",
      "Epoch 101/5000\n",
      "1107/1107 [==============================] - 1s 853us/step - loss: 0.0142 - root_mean_squared_error: 0.0954 - val_loss: 0.0161 - val_root_mean_squared_error: 0.1058\n",
      "Epoch 102/5000\n",
      "1107/1107 [==============================] - 1s 886us/step - loss: 0.0186 - root_mean_squared_error: 0.1160 - val_loss: 0.0083 - val_root_mean_squared_error: 0.0583\n",
      "Epoch 103/5000\n",
      "1107/1107 [==============================] - 1s 804us/step - loss: 0.0148 - root_mean_squared_error: 0.0988 - val_loss: 0.0305 - val_root_mean_squared_error: 0.1601\n",
      "Epoch 104/5000\n",
      "1107/1107 [==============================] - 1s 788us/step - loss: 0.0109 - root_mean_squared_error: 0.0766 - val_loss: 0.0197 - val_root_mean_squared_error: 0.1217\n",
      "Epoch 105/5000\n",
      "1107/1107 [==============================] - 1s 765us/step - loss: 0.0122 - root_mean_squared_error: 0.0849 - val_loss: 0.0135 - val_root_mean_squared_error: 0.0933\n",
      "Epoch 106/5000\n",
      "1107/1107 [==============================] - 1s 931us/step - loss: 0.0145 - root_mean_squared_error: 0.0967 - val_loss: 0.0212 - val_root_mean_squared_error: 0.1281\n",
      "230/230 [==============================] - 0s 485us/step - loss: 0.0194 - root_mean_squared_error: 0.1208\n"
     ]
    }
   ],
   "source": [
    "x = B.single_run()"
   ]
  },
  {
   "cell_type": "code",
   "execution_count": 17,
   "metadata": {},
   "outputs": [
    {
     "name": "stdout",
     "output_type": "stream",
     "text": [
      "[[-0.00104539]\n",
      " [ 0.41401175]\n",
      " [-0.40850762]\n",
      " [-0.825873  ]]\n",
      "-------------\n",
      "[-0.00252504  1.         -0.98670536 -1.9948058 ]\n",
      "-------------\n",
      "[[ 0.00550413]\n",
      " [-0.00104539]\n",
      " [-0.00885779]]\n"
     ]
    }
   ],
   "source": [
    "# Need to find a way to do these automatically\n",
    "# Say, we can divide by the largest number in the vector as a start (or simply avoid the smaller ones, the ones close to zero)\n",
    "# Or as an over-kill, we can find the combination that has the least non-zero fractions.\n",
    "\n",
    "\n",
    "x1_norm = x[:, 0]/x[1, 0]\n",
    "Pi, names = R.get_dim_matrix(include_names=True)\n",
    "\n",
    "print(x)\n",
    "print('-------------')\n",
    "print(x1_norm)\n",
    "print('-------------')\n",
    "print(Pi@x)\n"
   ]
  },
  {
   "cell_type": "code",
   "execution_count": 18,
   "metadata": {},
   "outputs": [
    {
     "name": "stdout",
     "output_type": "stream",
     "text": [
      "[-0.00252504  1.         -0.98670536 -1.9948058 ]\n",
      "m : 0\n",
      "L : 1\n",
      "g : -1\n",
      "t : -2\n"
     ]
    },
    {
     "data": {
      "text/latex": [
       "$\\displaystyle \\frac{L}{gt^{2}}$"
      ],
      "text/plain": [
       "<IPython.core.display.Math object>"
      ]
     },
     "metadata": {},
     "output_type": "display_data"
    }
   ],
   "source": [
    "from helper_functions import prettify_results\n",
    "\n",
    "prettify_results(x1_norm, names, tol=0.1, max_degree=6)\n",
    "\n",
    "## Known result is not guaranteed, but loss seems to be a good indicator"
   ]
  },
  {
   "cell_type": "code",
   "execution_count": 19,
   "metadata": {},
   "outputs": [
    {
     "data": {
      "image/png": "[encoded data removed]",
      "text/plain": [
       "<Figure size 432x288 with 1 Axes>"
      ]
     },
     "metadata": {
      "image/png": {
       "height": 251,
       "width": 363
      },
      "needs_background": "light"
     },
     "output_type": "display_data"
    }
   ],
   "source": [
    "idx = 7000\n",
    "pred = B.model.predict(np.log(inputs[idx:R.time_steps+idx, :]))\n",
    "fig = plt.figure()\n",
    "plt.plot(pred)\n",
    "plt.plot(outputs[idx:R.time_steps+idx])\n",
    "plt.legend(['prediction', 'true'])\n",
    "plt.show()"
   ]
  }
 ],
 "metadata": {
  "kernelspec": {
   "display_name": "Python 3",
   "language": "python",
   "name": "python3"
  },
  "language_info": {
   "codemirror_mode": {
    "name": "ipython",
    "version": 3
   },
   "file_extension": ".py",
   "mimetype": "text/x-python",
   "name": "python",
   "nbconvert_exporter": "python",
   "pygments_lexer": "ipython3",
   "version": "3.7.1"
  },
  "vscode": {
   "interpreter": {
    "hash": "e534e48711db4d1e1c48977d0d14ff85b1f16d41bcc4fdfd88268a329b3c9d66"
   }
  }
 },
 "nbformat": 4,
 "nbformat_minor": 4
}
