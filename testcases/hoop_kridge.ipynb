{
 "cells": [
  {
   "cell_type": "markdown",
   "metadata": {},
   "source": [
    "# Damped bead on a rotating Hoop\n",
    "\n",
    "From Sec. 3.5 in Strogatz.  Full equation:\n",
    "$$\n",
    "m R \\ddot{\\phi} = -b \\dot{\\phi} - m g \\sin \\phi + m R^2 \\omega \\sin \\phi \\cos \\phi\n",
    "$$\n",
    "\n",
    "If we introduce nondimensionalizations\n",
    "$$\n",
    "\\gamma = \\frac{R \\omega^2}{g} \\hspace{2cm} \\epsilon = \\frac{m^2 g R}{b^2}  \\hspace{2cm} \\tau = \\frac{t}{T} = \\frac{b}{mg},\n",
    "$$\n",
    "the equation becomes\n",
    "$$\n",
    "\\epsilon \\frac{d^2 \\phi}{d \\tau^2} = - \\frac{d \\phi}{d \\tau} - \\sin \\phi + \\gamma \\sin \\phi \\cos \\phi.\n",
    "$$\n",
    "For $\\epsilon \\ll 1$ and $\\gamma = \\mathcal{O}(1)$, the system is overdamped and approximately first-order.  The system undergoes a pitchfork bifurcation at $\\gamma = 1$."
   ]
  },
  {
   "cell_type": "code",
   "execution_count": 7,
   "metadata": {},
   "outputs": [],
   "source": [
    "# Matplotlib\n",
    "import numpy as np\n",
    "import matplotlib.pyplot as plt\n",
    "import matplotlib as mpl\n",
    "from matplotlib import rcParams\n",
    "mpl.rc('text', usetex=True)\n",
    "mpl.rc('font', family='serif')\n",
    "mpl.rc('xtick', labelsize=14)\n",
    "mpl.rc('ytick', labelsize=14)\n",
    "mpl.rc('axes', labelsize=20)\n",
    "mpl.rc('axes', titlesize=20)\n",
    "mpl.rc('figure', figsize=(6, 4))\n",
    "%config InlineBackend.figure_format = 'retina'\n",
    "\n",
    "from numpy.linalg import matrix_rank\n",
    "import sys\n",
    "sys.path.append('../src')\n",
    "sys.path.append('../solvers')\n",
    "from rotating_hoop import RotatingHoop\n",
    "from learning import KRidgeReg, NeuralNet, BuckyNet, KRidgeReg_struct\n",
    "from nullspace_search import get_nondim_numbers, fit_allnondim\n",
    "from helper_functions import prettify_results\n"
   ]
  },
  {
   "cell_type": "markdown",
   "metadata": {},
   "source": [
    "## Get Rotating hoop data"
   ]
  },
  {
   "cell_type": "code",
   "execution_count": null,
   "metadata": {},
   "outputs": [],
   "source": [
    "nsamples = int(1e3)\n",
    "output_type = 'svd' # options: 'dynamic', 'static', 'svd' - \n",
    "num_nondim = 2 # \n",
    "num_modes = 4\n",
    "tsteps = 500 # For 'dynamic', use smaller number of tsteps - dynamic still takes too long\n",
    "tend = 100\n",
    "phi_init = [1, 0]\n",
    "\n",
    "## Get solution\n",
    "R = RotatingHoop(nsamples=nsamples, output_type=output_type, modes=num_modes, time_steps=tsteps, tend=tend, phi0=phi_init)\n",
    "inputs, outputs = R.get_data()\n",
    "dim_matrix, names = R.get_dim_matrix(include_names=True)\n",
    "\n",
    "## In the static case, not all input parameters are used\n",
    "# In the SVD case \n",
    "if output_type == 'static':\n",
    "    num_nondim = 1\n",
    "else:\n",
    "    num_nondim = inputs.shape[1] - matrix_rank(dim_matrix)\n",
    "\n",
    "\n",
    "print(num_nondim)"
   ]
  },
  {
   "cell_type": "markdown",
   "metadata": {},
   "source": [
    "## Get non-dimensional numbers from Kernel Ridge Fit"
   ]
  },
  {
   "cell_type": "code",
   "execution_count": 9,
   "metadata": {},
   "outputs": [],
   "source": [
    "## Consider hyperparameter optimization over l1_reg and alpha\n",
    "l1_reg = 1e-3 ## Solution is sensitive to L1\n",
    "alpha = 1e-4\n",
    "kernel = 'rbf'\n",
    "gamma = 30\n",
    "use_test_set = True\n",
    "normalize=False\n",
    "num_trials = 5\n",
    "tol = 0.1\n",
    "max_denominator = 10\n",
    "\n",
    "# Ridge Regression\n",
    "K = KRidgeReg(inputs, outputs, dim_matrix, num_nondim=num_nondim, #normalize=normalize,\n",
    " l1_reg=l1_reg, alpha=alpha, kernel=kernel, gamma=gamma)\n",
    "\n"
   ]
  },
  {
   "cell_type": "code",
   "execution_count": 10,
   "metadata": {},
   "outputs": [
    {
     "name": "stdout",
     "output_type": "stream",
     "text": [
      "[[ 0  1  0 -1  2]\n",
      " [ 2  1 -2  1  0]]\n",
      "[ 2.0080266  1.        -2.0080266  1.0080266 -0.0080266]\n",
      "m : 2\n",
      "R : 1\n",
      "b : -2\n",
      "g : 1\n",
      "w : 0\n"
     ]
    },
    {
     "data": {
      "text/latex": [
       "$\\displaystyle \\frac{m^{2}Rg}{b^{2}}$"
      ],
      "text/plain": [
       "<IPython.core.display.Math object>"
      ]
     },
     "metadata": {},
     "output_type": "display_data"
    },
    {
     "name": "stdout",
     "output_type": "stream",
     "text": [
      "[ 0.05088969  1.         -0.05088969 -0.94911031  1.94911031]\n",
      "m : 0\n",
      "R : 1\n",
      "b : 0\n",
      "g : -1\n",
      "w : 2\n"
     ]
    },
    {
     "data": {
      "text/latex": [
       "$\\displaystyle \\frac{Rw^{2}}{g}$"
      ],
      "text/plain": [
       "<IPython.core.display.Math object>"
      ]
     },
     "metadata": {},
     "output_type": "display_data"
    }
   ],
   "source": [
    "print('\\n NOT using test set')\n",
    "K.use_test_set = False\n",
    "x = K.multi_run(ntrials=num_trials)\n",
    "\n",
    "\n",
    "print(R.get_true_nondim())\n",
    "pi1 = x[:, 0]/x[1, 0]\n",
    "prettify_results(pi1, names, tol=tol, max_degree=max_denominator)\n",
    "if output_type != 'static':\n",
    "    pi2 = x[:, 1]/x[1, 1]\n",
    "    prettify_results(pi2, names, tol=tol, max_degree=max_denominator)\n"
   ]
  },
  {
   "cell_type": "code",
   "execution_count": 11,
   "metadata": {},
   "outputs": [
    {
     "name": "stdout",
     "output_type": "stream",
     "text": [
      "using test set\n",
      "2.4931829344566285\n",
      "1.925358442348529\n",
      "[[ 0  1  0 -1  2]\n",
      " [ 2  1 -2  1  0]]\n",
      "[ 2.0080266  1.        -2.0080266  1.0080266 -0.0080266]\n",
      "m : 2\n",
      "R : 1\n",
      "b : -2\n",
      "g : 1\n",
      "w : 0\n"
     ]
    },
    {
     "data": {
      "text/latex": [
       "$\\displaystyle \\frac{m^{2}Rg}{b^{2}}$"
      ],
      "text/plain": [
       "<IPython.core.display.Math object>"
      ]
     },
     "metadata": {},
     "output_type": "display_data"
    },
    {
     "name": "stdout",
     "output_type": "stream",
     "text": [
      "[ 0.05088969  1.         -0.05088969 -0.94911031  1.94911031]\n",
      "m : 0\n",
      "R : 1\n",
      "b : 0\n",
      "g : -1\n",
      "w : 2\n"
     ]
    },
    {
     "data": {
      "text/latex": [
       "$\\displaystyle \\frac{Rw^{2}}{g}$"
      ],
      "text/plain": [
       "<IPython.core.display.Math object>"
      ]
     },
     "metadata": {},
     "output_type": "display_data"
    }
   ],
   "source": [
    "print('using test set')\n",
    "K.use_test_set = True\n",
    "x2 = K.multi_run(ntrials=num_trials)\n",
    "\n",
    "\n",
    "print(R.get_true_nondim())\n",
    "pi1 = x[:, 0]/x[1, 0]\n",
    "prettify_results(pi1, names, tol=tol, max_degree=max_denominator)\n",
    "if output_type != 'static':\n",
    "    pi2 = x[:, 1]/x[1, 1]\n",
    "    prettify_results(pi2, names, tol=tol, max_degree=max_denominator)"
   ]
  },
  {
   "cell_type": "code",
   "execution_count": 12,
   "metadata": {},
   "outputs": [
    {
     "name": "stdout",
     "output_type": "stream",
     "text": [
      "\n",
      " Normalize data\n",
      "2.221002182479567\n",
      "1.6408448482579319\n",
      "1.1344045742885176\n",
      "1.080364151740218\n",
      "[[ 0  1  0 -1  2]\n",
      " [ 2  1 -2  1  0]]\n",
      "[ 2.0080266  1.        -2.0080266  1.0080266 -0.0080266]\n",
      "m : 2\n",
      "R : 1\n",
      "b : -2\n",
      "g : 1\n",
      "w : 0\n"
     ]
    },
    {
     "data": {
      "text/latex": [
       "$\\displaystyle \\frac{m^{2}Rg}{b^{2}}$"
      ],
      "text/plain": [
       "<IPython.core.display.Math object>"
      ]
     },
     "metadata": {},
     "output_type": "display_data"
    },
    {
     "name": "stdout",
     "output_type": "stream",
     "text": [
      "[ 0.05088969  1.         -0.05088969 -0.94911031  1.94911031]\n",
      "m : 0\n",
      "R : 1\n",
      "b : 0\n",
      "g : -1\n",
      "w : 2\n"
     ]
    },
    {
     "data": {
      "text/latex": [
       "$\\displaystyle \\frac{Rw^{2}}{g}$"
      ],
      "text/plain": [
       "<IPython.core.display.Math object>"
      ]
     },
     "metadata": {},
     "output_type": "display_data"
    }
   ],
   "source": [
    "\n",
    "print('\\n Normalize data')\n",
    "K.normalize()\n",
    "K.use_test_set = True\n",
    "x3 = K.multi_run(ntrials=num_trials)\n",
    "\n",
    "\n",
    "print(R.get_true_nondim())\n",
    "pi1 = x[:, 0]/x[1, 0]\n",
    "prettify_results(pi1, names, tol=tol, max_degree=max_denominator)\n",
    "if output_type != 'static':\n",
    "    pi2 = x[:, 1]/x[1, 1]\n",
    "    prettify_results(pi2, names, tol=tol, max_degree=max_denominator)\n",
    "## Normalizing seems like a bad idea.."
   ]
  }
 ],
 "metadata": {
  "kernelspec": {
   "display_name": "Python 3",
   "language": "python",
   "name": "python3"
  },
  "language_info": {
   "codemirror_mode": {
    "name": "ipython",
    "version": 3
   },
   "file_extension": ".py",
   "mimetype": "text/x-python",
   "name": "python",
   "nbconvert_exporter": "python",
   "pygments_lexer": "ipython3",
   "version": "3.7.1"
  },
  "vscode": {
   "interpreter": {
    "hash": "e534e48711db4d1e1c48977d0d14ff85b1f16d41bcc4fdfd88268a329b3c9d66"
   }
  }
 },
 "nbformat": 4,
 "nbformat_minor": 4
}
