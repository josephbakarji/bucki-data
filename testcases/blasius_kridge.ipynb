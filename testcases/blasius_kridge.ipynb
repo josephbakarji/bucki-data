{
 "cells": [
  {
   "cell_type": "markdown",
   "metadata": {},
   "source": [
    "\n",
    "For constant free stream flow, the [Blasius similarity solution](https://en.wikipedia.org/wiki/Blasius_boundary_layer#Blasius_equation_-_First-order_boundary_layer) gives the boundary layer behavior a s a function of the similarity variable $$\\eta = \\frac{y}{\\delta(x)} = y \\sqrt{\\frac{U_\\infty}{ \\nu x}},$$\n",
    "where $\\delta(x)$ is the boundary layer thickness. Under Blasius' assumptions the flow is determined by the solution to the nonlinear boundary value problem\n",
    "$$ f'''(\\eta) + \\frac{1}{2}f''(\\eta) f(\\eta), $$\n",
    "$$ f(0) = f'(0) = 0, f'(\\infty) = 1$$\n",
    "\n",
    "Since this is a third-order equation, if a value for $f''(0)$ can be found which satisfies the infinite boundary condition, the self-similarity function $f(\\eta)$ can be found numerically (e.g. with Runge-Kutta integration). This unknown \"initial condition\" can be established through root-finding.\n",
    "\n",
    "Once $f(\\eta)$ is known, the boundary layer profile can be found via\n",
    "$$ u(x, y) = U_\\infty f'(\\eta), \\hspace{1cm} v(x, y) = \\frac{U_\\infty}{2}\\sqrt{\\frac{\\nu}{ U_\\infty x}} [\\eta f'(\\eta) - f(\\eta)]. $$\n",
    "In other words, $u/U_\\infty$ depends only on $\\eta$, but $v/U_\\infty$ depends on $\\eta$ and $Re_x$\n",
    "\n",
    "Obviously the equation cannot be solved numerically at infinity, but since it quickly approaches a linear solution, solving the problem on $\\eta \\in (0, 10)$ should be sufficient.\n",
    "\n",
    "To solve, we need to define variables to reduce the third-order ODE to a first-order system of ODEs. This is done by defining\n",
    "$$ f(\\eta) = f_0 $$\n",
    "$$ f'(\\eta) = f_1 $$\n",
    "$$ f''(\\eta) = f_2 $$\n",
    "Then the BVP becomes\n",
    "$$f_0' = f_1 $$\n",
    "$$ f_1' = f_2 $$\n",
    "$$ f_2' = -\\frac{1}{2}f_2 f_0 $$\n",
    "with boundary conditions\n",
    "$$f_0(0) = f_1(0) = 0$$\n",
    "$$f_1(\\infty) = 1$$\n",
    "\n",
    "To solve with scipy, need to define a function to evaluate the ODE (for forward integration) and a function to evaluate the error in the boundary conditions:\n"
   ]
  },
  {
   "cell_type": "code",
   "execution_count": 5,
   "metadata": {},
   "outputs": [],
   "source": [
    "import numpy as np\n",
    "import numpy.random as rng\n",
    "from scipy.integrate import odeint\n",
    "\n",
    "import sys\n",
    "sys.path.append('../solvers/')\n",
    "sys.path.append('../src/')\n",
    "\n",
    "from blasius import solve_blasius\n",
    "from learning import KRidgeReg\n",
    "from helper_functions import prettify_results"
   ]
  },
  {
   "cell_type": "code",
   "execution_count": 6,
   "metadata": {},
   "outputs": [],
   "source": [
    "eta_inf=10\n",
    "d_eta=0.01\n",
    "nu = 1e-6       # Viscosity of water near room temperature  (m^2/s)\n",
    "U_inf = 0.01    # m/s\n",
    "xlim = [1e-3, 1e-1]\n",
    "\n",
    "x, y, u, v = solve_blasius(xlim, nu, U_inf, eta_inf, d_eta)\n",
    "\n",
    "yy, xx = np.meshgrid(y, x)\n",
    "eta = yy*np.sqrt(U_inf/(xx*nu))  # Exact value of eta\n",
    "\n",
    "Re = (U_inf/nu)*x\n",
    "delta = 1.72 * np.sqrt(x*nu/U_inf)"
   ]
  },
  {
   "cell_type": "markdown",
   "metadata": {},
   "source": [
    "# Optimization"
   ]
  },
  {
   "cell_type": "code",
   "execution_count": 7,
   "metadata": {},
   "outputs": [
    {
     "name": "stdout",
     "output_type": "stream",
     "text": [
      "$\\eta$ and $Re$ are in null-space:\n",
      "[0. 0.]\n",
      "[0 0]\n"
     ]
    }
   ],
   "source": [
    "\n",
    "dim_matrix = np.array([[1, 0], [1, 0], [1, -1], [2,  -1]]).T\n",
    "names = ['x', 'y', 'U_{inf}', '\\\\nu']\n",
    "\n",
    "# True vectors are in the nullspace\n",
    "eta_vec = np.array([-0.5, 1, 0.5, -0.5])\n",
    "Re_vec = np.array([1, 0, 1, -1])\n",
    "print('$\\eta$ and $Re$ are in null-space:')\n",
    "print(dim_matrix @ eta_vec)\n",
    "print(dim_matrix @ Re_vec)\n",
    "\n",
    "# Inputs: [x, y, U, nu]\n",
    "p = np.vstack([xx.flatten(),\n",
    "               yy.flatten(),\n",
    "               np.full(u.shape, U_inf).flatten(),\n",
    "               np.full(u.shape, nu).flatten()]).T\n",
    "\n",
    "# Outputs: [u/Uinf, v/U_inf]\n",
    "q = np.vstack([u.flatten()/U_inf, v.flatten()/U_inf])\n",
    "\n",
    "# Randomly subsample observable and parameters\n",
    "nsamp = 500\n",
    "idx = np.random.choice(np.arange(q.shape[1]), nsamp)\n",
    "outputs = q[:, idx].T\n",
    "inputs = p[idx, :]"
   ]
  },
  {
   "cell_type": "code",
   "execution_count": 8,
   "metadata": {},
   "outputs": [
    {
     "name": "stderr",
     "output_type": "stream",
     "text": [
      "  3%|▎         | 1/30 [00:00<00:23,  1.22it/s]"
     ]
    },
    {
     "name": "stdout",
     "output_type": "stream",
     "text": [
      "0.03304542246637743\n",
      "[[ 1.72511906 -4.89422863]\n",
      " [ 3.73678139  3.85797104]\n",
      " [ 5.46190046 -1.03625758]\n",
      " [-5.46190046  1.03625758]]\n"
     ]
    },
    {
     "name": "stderr",
     "output_type": "stream",
     "text": [
      "  7%|▋         | 2/30 [00:01<00:24,  1.13it/s]"
     ]
    },
    {
     "name": "stdout",
     "output_type": "stream",
     "text": [
      "0.03296600898351287\n",
      "[[-2.16253561 -5.92840418]\n",
      " [-2.08783914  4.70055814]\n",
      " [-4.25037475 -1.22784604]\n",
      " [ 4.25037475  1.22784604]]\n"
     ]
    },
    {
     "name": "stderr",
     "output_type": "stream",
     "text": [
      " 10%|█         | 3/30 [00:05<00:42,  1.56s/it]"
     ]
    },
    {
     "name": "stdout",
     "output_type": "stream",
     "text": [
      "0.015775574578145823\n",
      "[[  0.40206449 -30.93611914]\n",
      " [ -2.68652587   8.41135681]\n",
      " [ -2.28446138 -22.52476233]\n",
      " [  2.28446138  22.52476233]]\n"
     ]
    },
    {
     "name": "stderr",
     "output_type": "stream",
     "text": [
      " 40%|████      | 12/30 [00:18<00:26,  1.49s/it]"
     ]
    },
    {
     "name": "stdout",
     "output_type": "stream",
     "text": [
      "0.009592692945234016\n",
      "[[ -4.99488349  -4.93486956]\n",
      " [ -0.4414798   17.13428372]\n",
      " [ -5.43636329  12.19941415]\n",
      " [  5.43636329 -12.19941415]]\n"
     ]
    },
    {
     "name": "stderr",
     "output_type": "stream",
     "text": [
      " 50%|█████     | 15/30 [00:23<00:23,  1.58s/it]"
     ]
    },
    {
     "name": "stdout",
     "output_type": "stream",
     "text": [
      "0.006290533131045883\n",
      "[[ 18.14104227   3.11002772]\n",
      " [-18.6818402   18.82934429]\n",
      " [ -0.54079793  21.93937201]\n",
      " [  0.54079793 -21.93937201]]\n"
     ]
    },
    {
     "name": "stderr",
     "output_type": "stream",
     "text": [
      " 60%|██████    | 18/30 [00:27<00:20,  1.70s/it]"
     ]
    },
    {
     "name": "stdout",
     "output_type": "stream",
     "text": [
      "0.004193246947963525\n",
      "[[ -2.35563601 -51.006045  ]\n",
      " [-30.73315426  31.98057803]\n",
      " [-33.08879028 -19.02546697]\n",
      " [ 33.08879028  19.02546697]]\n"
     ]
    },
    {
     "name": "stderr",
     "output_type": "stream",
     "text": [
      " 77%|███████▋  | 23/30 [00:36<00:13,  1.94s/it]"
     ]
    },
    {
     "name": "stdout",
     "output_type": "stream",
     "text": [
      "0.003806171648494505\n",
      "[[ -9.24372185  14.36222657]\n",
      " [ 10.43254965  16.11952147]\n",
      " [  1.1888278   30.48174804]\n",
      " [ -1.1888278  -30.48174804]]\n"
     ]
    },
    {
     "name": "stderr",
     "output_type": "stream",
     "text": [
      " 90%|█████████ | 27/30 [00:40<00:03,  1.32s/it]"
     ]
    },
    {
     "name": "stdout",
     "output_type": "stream",
     "text": [
      "0.002724906910016145\n",
      "[[ 13.50472629  10.5675237 ]\n",
      " [ 16.57225888 -15.24483226]\n",
      " [ 30.07698517  -4.67730857]\n",
      " [-30.07698517   4.67730857]]\n"
     ]
    },
    {
     "name": "stderr",
     "output_type": "stream",
     "text": [
      "100%|██████████| 30/30 [00:46<00:00,  1.56s/it]"
     ]
    },
    {
     "name": "stdout",
     "output_type": "stream",
     "text": [
      "[-0.31584594 -0.68415406 -1.          1.        ]\n",
      "x : -0.3333333333333333\n",
      "y : -0.6666666666666666\n",
      "U_{inf} : -1\n",
      "\\nu : 1\n"
     ]
    },
    {
     "name": "stderr",
     "output_type": "stream",
     "text": [
      "\n"
     ]
    },
    {
     "data": {
      "text/latex": [
       "$\\displaystyle \\frac{\\nu}{x^{0.333}y^{0.667}U_{inf}}$"
      ],
      "text/plain": [
       "<IPython.core.display.Math object>"
      ]
     },
     "metadata": {},
     "output_type": "display_data"
    },
    {
     "name": "stdout",
     "output_type": "stream",
     "text": [
      "[ 1.         -0.78826948  0.21173052 -0.21173052]\n",
      "x : 1\n",
      "y : -0.75\n",
      "U_{inf} : 0.25\n",
      "\\nu : -0.25\n"
     ]
    },
    {
     "data": {
      "text/latex": [
       "$\\displaystyle \\frac{xU_{inf}^{0.250}}{y^{0.750}\\nu^{0.250}}$"
      ],
      "text/plain": [
       "<IPython.core.display.Math object>"
      ]
     },
     "metadata": {},
     "output_type": "display_data"
    }
   ],
   "source": [
    "## Consider hyperparameter optimization over l1_reg and alpha\n",
    "l1_reg = 1e-6 ## Solution is sensitive to L1\n",
    "alpha = 1e-4\n",
    "kernel = 'rbf'\n",
    "gamma = 30\n",
    "use_test_set = True\n",
    "normalize = True\n",
    "num_trials = 30\n",
    "frac_tol = 0.1\n",
    "max_denominator = 10\n",
    "num_nondim = 2\n",
    "\n",
    "# Ridge Regression\n",
    "K = KRidgeReg(inputs, outputs, dim_matrix, num_nondim=num_nondim, #normalize=normalize,\n",
    " l1_reg=l1_reg, alpha=alpha, kernel=kernel, gamma=gamma)\n",
    "\n",
    "x, x_list, loss_list = K.multi_run(ntrials=num_trials)\n",
    "\n",
    "pi1 = x[:, 0]/min(x[:, 0])\n",
    "pi2 = x[:, 1]/min(x[:, 1])\n",
    "\n",
    "prettify_results(pi1, names, tol=frac_tol, max_degree=max_denominator)\n",
    "prettify_results(pi2, names, tol=frac_tol, max_degree=max_denominator)\n"
   ]
  },
  {
   "cell_type": "code",
   "execution_count": 9,
   "metadata": {},
   "outputs": [
    {
     "name": "stdout",
     "output_type": "stream",
     "text": [
      "$\\eta$ and $Re$ are in null-space:\n",
      "[0. 0.]\n",
      "[0 0]\n"
     ]
    },
    {
     "ename": "TypeError",
     "evalue": "only integer scalar arrays can be converted to a scalar index",
     "output_type": "error",
     "traceback": [
      "\u001b[0;31m---------------------------------------------------------------------------\u001b[0m",
      "\u001b[0;31mTypeError\u001b[0m                                 Traceback (most recent call last)",
      "\u001b[0;32m<ipython-input-9-9523a9a51256>\u001b[0m in \u001b[0;36m<module>\u001b[0;34m\u001b[0m\n\u001b[1;32m     21\u001b[0m \u001b[0mnsamp\u001b[0m \u001b[0;34m=\u001b[0m \u001b[0;36m100\u001b[0m\u001b[0;34m\u001b[0m\u001b[0;34m\u001b[0m\u001b[0m\n\u001b[1;32m     22\u001b[0m \u001b[0midx\u001b[0m \u001b[0;34m=\u001b[0m \u001b[0mnp\u001b[0m\u001b[0;34m.\u001b[0m\u001b[0mrandom\u001b[0m\u001b[0;34m.\u001b[0m\u001b[0mchoice\u001b[0m\u001b[0;34m(\u001b[0m\u001b[0mnp\u001b[0m\u001b[0;34m.\u001b[0m\u001b[0marange\u001b[0m\u001b[0;34m(\u001b[0m\u001b[0mq\u001b[0m\u001b[0;34m.\u001b[0m\u001b[0mshape\u001b[0m\u001b[0;34m[\u001b[0m\u001b[0;36m1\u001b[0m\u001b[0;34m]\u001b[0m\u001b[0;34m)\u001b[0m\u001b[0;34m,\u001b[0m \u001b[0mnsamp\u001b[0m\u001b[0;34m)\u001b[0m\u001b[0;34m\u001b[0m\u001b[0;34m\u001b[0m\u001b[0m\n\u001b[0;32m---> 23\u001b[0;31m \u001b[0moutputs\u001b[0m \u001b[0;34m=\u001b[0m \u001b[0mq\u001b[0m\u001b[0;34m[\u001b[0m\u001b[0;34m:\u001b[0m \u001b[0midx\u001b[0m\u001b[0;34m]\u001b[0m\u001b[0;34m.\u001b[0m\u001b[0mT\u001b[0m\u001b[0;34m\u001b[0m\u001b[0;34m\u001b[0m\u001b[0m\n\u001b[0m\u001b[1;32m     24\u001b[0m \u001b[0minputs\u001b[0m \u001b[0;34m=\u001b[0m \u001b[0mp\u001b[0m\u001b[0;34m[\u001b[0m\u001b[0midx\u001b[0m\u001b[0;34m,\u001b[0m \u001b[0;34m:\u001b[0m\u001b[0;34m]\u001b[0m\u001b[0;34m\u001b[0m\u001b[0;34m\u001b[0m\u001b[0m\n",
      "\u001b[0;31mTypeError\u001b[0m: only integer scalar arrays can be converted to a scalar index"
     ]
    }
   ],
   "source": [
    "\n",
    "dim_matrix = np.array([[1, 0], [1, 0], [1, -1], [2,  -1]]).T\n",
    "names = ['x', 'y', 'U_{inf}', '\\\\nu']\n",
    "\n",
    "# True vectors are in the nullspace\n",
    "eta_vec = np.array([-0.5, 1, 0.5, -0.5])\n",
    "Re_vec = np.array([1, 0, 1, -1])\n",
    "print('$\\eta$ and $Re$ are in null-space:')\n",
    "print(dim_matrix @ eta_vec)\n",
    "print(dim_matrix @ Re_vec)\n",
    "\n",
    "# Inputs: [x, y, U, nu]\n",
    "p = np.vstack([xx.flatten(),\n",
    "               yy.flatten(),\n",
    "               np.full(u.shape, U_inf).flatten(),\n",
    "               np.full(u.shape, nu).flatten()]).T\n",
    "\n",
    "# Outputs: [u/Uinf, v/U_inf]\n",
    "q = np.vstack([u.flatten()/U_inf, v.flatten()/U_inf])\n",
    "\n",
    "# Randomly subsample observable and parameters\n",
    "nsamp = 100\n",
    "idx = np.random.choice(np.arange(q.shape[1]), nsamp)\n",
    "outputs = q[: idx].T\n",
    "inputs = p[idx, :]"
   ]
  },
  {
   "cell_type": "code",
   "execution_count": null,
   "metadata": {},
   "outputs": [
    {
     "name": "stdout",
     "output_type": "stream",
     "text": [
      "0.02710798227229194\n",
      "0.027095360444421845\n",
      "[-0.03855079  1.          0.96144921 -0.96144921]\n",
      "x : 0\n",
      "y : 1\n",
      "U_{inf} : 1\n",
      "\\nu : -1\n"
     ]
    },
    {
     "data": {
      "text/latex": [
       "$\\displaystyle \\frac{yU_{inf}}{\\nu}$"
      ],
      "text/plain": [
       "<IPython.core.display.Math object>"
      ]
     },
     "metadata": {},
     "output_type": "display_data"
    }
   ],
   "source": [
    "## Consider hyperparameter optimization over l1_reg and alpha\n",
    "l1_reg = 1e-6 ## Solution is sensitive to L1\n",
    "alpha = 1e-4\n",
    "kernel = 'rbf'\n",
    "gamma = 1 \n",
    "use_test_set = True\n",
    "normalize = True\n",
    "num_trials = 80\n",
    "frac_tol = 0.1\n",
    "max_denominator = 10\n",
    "num_nondim = 1\n",
    "\n",
    "# Ridge Regression\n",
    "K = KRidgeReg(inputs, outputs, dim_matrix, num_nondim=num_nondim, #normalize=normalize,\n",
    " l1_reg=l1_reg, alpha=alpha, kernel=kernel, gamma=gamma)\n",
    "\n",
    "x, x_list, loss_list = K.multi_run(ntrials=num_trials)\n",
    "\n",
    "pi1 = x[:, 0]/x[1, 0]\n",
    "\n",
    "prettify_results(pi1, names, tol=frac_tol, max_degree=max_denominator)\n"
   ]
  },
  {
   "cell_type": "code",
   "execution_count": null,
   "metadata": {},
   "outputs": [
    {
     "data": {
      "text/plain": [
       "array([0.02710798, 0.02709536])"
      ]
     },
     "execution_count": 49,
     "metadata": {},
     "output_type": "execute_result"
    }
   ],
   "source": [
    "x_list_arr = []\n",
    "x_list_arr_idx = []\n",
    "xdiv = 0\n",
    "for idx, x in enumerate(x_list):\n",
    "    if x is not None:\n",
    "        if type(x) != np.ndarray:\n",
    "            xdiv += 1\n",
    "        else:\n",
    "            x_list_arr.append(x)    \n",
    "            x_list_arr_idx.append(idx)\n",
    "\n",
    "x_list_arr = x_list_arr\n",
    "x_list_arr_idx = np.array(x_list_arr_idx)\n",
    "\n",
    "num_none = len(x_list) - len(x_list_arr)\n",
    "\n",
    "x_list_norm = []\n",
    "for x in x_list_arr:\n",
    "    x_list_norm.append( x[:, 0]/min(x[:, 0]) )\n",
    "\n",
    "loss_list_arr = np.array(loss_list)\n",
    "loss_list_arr[x_list_arr_idx]\n"
   ]
  },
  {
   "cell_type": "code",
   "execution_count": null,
   "metadata": {},
   "outputs": [
    {
     "data": {
      "text/plain": [
       "[array([-0.03855079,  1.        ,  0.96144921, -0.96144921]),\n",
       " array([ 0.0406699, -1.0406699, -1.       ,  1.       ])]"
      ]
     },
     "execution_count": 50,
     "metadata": {},
     "output_type": "execute_result"
    }
   ],
   "source": [
    "x_list_norm"
   ]
  },
  {
   "cell_type": "code",
   "execution_count": 11,
   "metadata": {},
   "outputs": [
    {
     "data": {
      "text/plain": [
       "{'additive_chi2': <function sklearn.metrics.pairwise.additive_chi2_kernel(X, Y=None)>,\n",
       " 'chi2': <function sklearn.metrics.pairwise.chi2_kernel(X, Y=None, gamma=1.0)>,\n",
       " 'linear': <function sklearn.metrics.pairwise.linear_kernel(X, Y=None, dense_output=True)>,\n",
       " 'polynomial': <function sklearn.metrics.pairwise.polynomial_kernel(X, Y=None, degree=3, gamma=None, coef0=1)>,\n",
       " 'poly': <function sklearn.metrics.pairwise.polynomial_kernel(X, Y=None, degree=3, gamma=None, coef0=1)>,\n",
       " 'rbf': <function sklearn.metrics.pairwise.rbf_kernel(X, Y=None, gamma=None)>,\n",
       " 'laplacian': <function sklearn.metrics.pairwise.laplacian_kernel(X, Y=None, gamma=None)>,\n",
       " 'sigmoid': <function sklearn.metrics.pairwise.sigmoid_kernel(X, Y=None, gamma=None, coef0=1)>,\n",
       " 'cosine': <function sklearn.metrics.pairwise.cosine_similarity(X, Y=None, dense_output=True)>}"
      ]
     },
     "execution_count": 11,
     "metadata": {},
     "output_type": "execute_result"
    }
   ],
   "source": [
    "import sklearn\n",
    "sklearn.metrics.pairwise.PAIRWISE_KERNEL_FUNCTIONS"
   ]
  },
  {
   "cell_type": "code",
   "execution_count": null,
   "metadata": {},
   "outputs": [],
   "source": []
  }
 ],
 "metadata": {
  "kernelspec": {
   "display_name": "Python 3",
   "language": "python",
   "name": "python3"
  },
  "language_info": {
   "codemirror_mode": {
    "name": "ipython",
    "version": 3
   },
   "file_extension": ".py",
   "mimetype": "text/x-python",
   "name": "python",
   "nbconvert_exporter": "python",
   "pygments_lexer": "ipython3",
   "version": "3.7.1"
  },
  "vscode": {
   "interpreter": {
    "hash": "e534e48711db4d1e1c48977d0d14ff85b1f16d41bcc4fdfd88268a329b3c9d66"
   }
  }
 },
 "nbformat": 4,
 "nbformat_minor": 4
}
